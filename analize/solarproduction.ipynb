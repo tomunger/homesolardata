{
 "cells": [
  {
   "cell_type": "code",
   "execution_count": null,
   "metadata": {},
   "outputs": [],
   "source": [
    "import pandas as pd\n",
    "import numpy as np\n",
    "import matplotlib.pyplot as plt\n",
    "import sqlalchemy\n",
    "import json\n",
    "import math\n",
    "import datetime\n",
    "from sqlalchemy.ext.declarative import declarative_base\n",
    "from scipy import integrate"
   ]
  },
  {
   "cell_type": "code",
   "execution_count": null,
   "metadata": {},
   "outputs": [],
   "source": [
    "FIGSIZE = (40, 20)\n",
    "FONTSIZE = 20\n",
    "\n",
    "PRODUCTION_COLOR = \"mediumspringgreen\"\n",
    "CONSUMPTION_COLOR = \"coral\"\n",
    "NET_COLOR = \"grey\"\n",
    "\n",
    "with open(\"../localconfig.json\", \"r\") as f:\n",
    "\tconfig = json.load(f)\n",
    "\n"
   ]
  },
  {
   "cell_type": "markdown",
   "metadata": {},
   "source": [
    "# Load solar data from files."
   ]
  },
  {
   "cell_type": "code",
   "execution_count": null,
   "metadata": {},
   "outputs": [],
   "source": [
    "FILES = [ \"../local-solardata.csv\", \"../local-solardata-2022-05-12.csv\" ]\n",
    "\n",
    "solardf = None\n",
    "\n",
    "for f in FILES:\n",
    "\n",
    "\n",
    "\tdf = pd.read_csv(f,\n",
    "\t\t\t\t\theader=None,\n",
    "\t\t\t\t\tnames=['datetime', 'consumption', 'production'],\n",
    "\t\t\t\t\tindex_col=0,\n",
    "\t\t\t\t\tparse_dates=[0])\n",
    "\tif solardf is not None:\n",
    "\t\tsolardf = solardf.append(df)\n",
    "\telse:\n",
    "\t\tsolardf = df\n",
    "\n",
    "solardf.sort_index(inplace=True)\n",
    "\t\t"
   ]
  },
  {
   "cell_type": "markdown",
   "metadata": {},
   "source": [
    "# Load solar production data from a database"
   ]
  },
  {
   "cell_type": "code",
   "execution_count": null,
   "metadata": {},
   "outputs": [],
   "source": [
    "connectionstr = f\"mysql+pymysql://{config['dbuser']}:{config['dbpass']}@{config['dbhost']}/{config['dbname']}?charset=utf8mb4\"\n",
    "engine = sqlalchemy.create_engine(connectionstr)\n",
    "engine.connect()"
   ]
  },
  {
   "cell_type": "code",
   "execution_count": null,
   "metadata": {},
   "outputs": [],
   "source": [
    "data_to = datetime.datetime.now()\n",
    "data_from = data_to - datetime.timedelta(days=7)\n",
    "data_from_str = data_from.strftime(\"%Y-%m-%d\")\n",
    "data_to_str = data_to.strftime(\"%Y-%m-%d\")\n",
    "#data_from_str = '2022-05-18'\n",
    "#data_to_str = '2022-05-19'\n",
    "\n",
    "#solardf = pd.read_sql_table('production', engine)\n",
    "sql =  f'''\n",
    "SELECT datetime, consumption, production FROM production \n",
    "\tWHERE datetime >= '{data_from_str}' and datetime < '{data_to_str}'\n",
    "\tORDER by datetime asc\n",
    "'''\n",
    "solardf = pd.read_sql(sql, engine, index_col='datetime')"
   ]
  },
  {
   "cell_type": "markdown",
   "metadata": {},
   "source": [
    "# Resample data\n",
    "We may wish to resample data.  Reasons to do this maybe\n",
    " * To fill gaps with reasonable values\n",
    " * Decrease the number of data points for faster processing\n",
    "  \n",
    "`resample()` will resample at our chosen time interval.  Where there is no data, the value is NaN.  There are a couple options\n",
    "for handling NaN:\n",
    "\n",
    " * `dropna()`: will drop these cells.  If graphing, the effect is a gap\n",
    " * `fillna()`: will fill these cells with a value.  But what?\n",
    " * `bfill()` or `ffill()`: fill backwards from the next value or forward from the previous.  If the gap is small, this is reasonable but if the gap is large it is inaccurate.\n",
    " * `interpolate()`:  Will interpolate between the values preceeding the gap and followign the gap.  This may produce the best estimate.\n",
    "\n",
    "Sample Code:\n",
    "\n",
    "\tdf_noop = solardf.resample('1Min').mean()\n",
    "\tdf_dropna = solardf.resample('1Min').mean().dropna()\n",
    "\tdf_fillna = solardf.resample('1Min').mean().fillna(0)\n",
    "\tdf_ffill = solardf.resample('1Min').mean().ffill()\n",
    "\tdf_interpolate = solardf.resample('1Min').mean().interpolate(method='linear', axis=0)\n"
   ]
  },
  {
   "cell_type": "code",
   "execution_count": null,
   "metadata": {},
   "outputs": [],
   "source": [
    "solardf.head()\n"
   ]
  },
  {
   "cell_type": "code",
   "execution_count": null,
   "metadata": {},
   "outputs": [],
   "source": [
    "plt.rcParams.update({'font.size': FONTSIZE})\n",
    "fig = plt.figure(figsize = FIGSIZE)\n",
    "\n",
    "# Resample and interpolate to fill gaps in data with reasonable value.\n",
    "df = solardf.resample('1Min').mean().interpolate(method='linear', axis=0)\n",
    "\n",
    "# Smooth data with rolling average and convert to kiloWatts.\n",
    "minutes_rolling = 20\n",
    "smoothed_consumption = -df['consumption'].rolling(minutes_rolling).mean().dropna() / 1000\n",
    "smoothed_production = df['production'].rolling(minutes_rolling).mean().dropna() / 1000\n",
    "net = smoothed_production + smoothed_consumption\n",
    "\n",
    "\n",
    "plt.plot(smoothed_consumption.index, smoothed_consumption, CONSUMPTION_COLOR, label=\"Consumption\")\n",
    "plt.plot(smoothed_production.index, smoothed_production, PRODUCTION_COLOR, label=\"Production\")\n",
    "plt.plot(net.index, net, NET_COLOR, label=\"Net\")\n",
    "\n",
    "# Calculate a max value for the y-axis\n",
    "max_value = math.ceil(max(-smoothed_consumption.max(), smoothed_production.max()))\n",
    "step = 0.5\n",
    "plt.yticks(np.arange(-max_value, max_value+step, step))\n",
    "plt.ylabel(\"kW\")\n",
    "\n",
    "plt.grid(alpha =.6, linestyle ='--') \n",
    "plt.legend()\n",
    "plt.title(\"Solar Production\")"
   ]
  },
  {
   "cell_type": "markdown",
   "metadata": {},
   "source": [
    "# Plot historic production and consumption"
   ]
  },
  {
   "cell_type": "code",
   "execution_count": null,
   "metadata": {},
   "outputs": [],
   "source": [
    "#\n",
    "# Copy the original dataframe\n",
    "intdf = solardf.copy()\n",
    "\n",
    "# Add back data point time as a column so we can calculate on it.\n",
    "intdf['datetime'] = intdf.index\n",
    "\n",
    "# Calculate the cumulative seconds since first data point.\n",
    "#     \t.diff() calculates difference from previoius row.\n",
    "# \t\t.dt.total_seconds()  reats the value as datetime and gets total seconds\n",
    "# \t\tfillna(0) ensures there are no missing data elements.\n",
    "# \t\tcumsum() calculates cumulative sum at each row.\n",
    "intdf['cumsec'] = intdf['datetime'].diff().dt.total_seconds().fillna(0).cumsum()"
   ]
  },
  {
   "cell_type": "code",
   "execution_count": null,
   "metadata": {},
   "outputs": [],
   "source": [
    "intdf"
   ]
  },
  {
   "cell_type": "code",
   "execution_count": null,
   "metadata": {},
   "outputs": [],
   "source": [
    "#\n",
    "# Function to integrate over in groups.\n",
    "#\n",
    "def calculate_cumulative(groups, divisor):\n",
    "\t# Arrays to hold values for each column\n",
    "\tcons = []\n",
    "\tprod = []\n",
    "\tindex = []\n",
    "\n",
    "\tfor name, group in groups:\n",
    "\t\t#print (group)\n",
    "\t\tcwh = integrate.trapz(group['consumption'], x=group['cumsec']) / divisor\n",
    "\t\tpwh = integrate.trapz(group['production'], x=group['cumsec']) / divisor\n",
    "\t\tcons.append(cwh)\n",
    "\t\tprod.append(pwh)\n",
    "\t\tindex.append(name)\n",
    "\n",
    "\treturn pd.DataFrame({'consumption': cons, 'production': prod}, index=index)\n"
   ]
  },
  {
   "cell_type": "code",
   "execution_count": null,
   "metadata": {},
   "outputs": [],
   "source": [
    "group_by_day = intdf.groupby(pd.Grouper(axis=0, freq='D'))\n",
    "daily = calculate_cumulative(group_by_day, 3600*1000)\n",
    "daily"
   ]
  },
  {
   "cell_type": "code",
   "execution_count": null,
   "metadata": {},
   "outputs": [],
   "source": [
    "np.arange(-60,65, 5)"
   ]
  },
  {
   "cell_type": "code",
   "execution_count": null,
   "metadata": {},
   "outputs": [],
   "source": [
    "x = np.arange(len(daily.index))\n",
    "width = 0.85\n",
    "fig, ax = plt.subplots(figsize = (20,10))\n",
    "\n",
    "rects1 = ax.bar(x, -daily['consumption'], width, label='Consumption', color=CONSUMPTION_COLOR)\n",
    "rects2 = ax.bar(x, daily['production'], width, label='Production', color=PRODUCTION_COLOR)\n",
    "rects3 = ax.bar(x, daily['production']-daily['consumption'], width, label='Net', color=NET_COLOR)\n",
    "ax.set_ylabel('kWh')\n",
    "ax.set_title('Daily Electric consumption and production')\n",
    "ax.set_yticks(np.arange(-60,65, 5))\n",
    "ax\n",
    "ax.set_xticks(x, daily.index.map(lambda x: x.strftime('%Y-%m-%d')))\n",
    "ax.legend()\n",
    "ax.grid(alpha =.6, linestyle ='--')\n"
   ]
  },
  {
   "cell_type": "code",
   "execution_count": null,
   "metadata": {},
   "outputs": [],
   "source": [
    "#\n",
    "# Plot daily graphs.\n",
    "# Enphase shows daily data in 15 minute intervals.\n",
    "group_by_15min = intdf.groupby(pd.Grouper(axis=0, freq='15min'))\n",
    "at15min = calculate_cumulative(group_by_15min, 3600)\n",
    "at15min"
   ]
  },
  {
   "cell_type": "code",
   "execution_count": null,
   "metadata": {},
   "outputs": [],
   "source": [
    "# Past 7 days\n",
    "daily[-7:].sum()"
   ]
  },
  {
   "cell_type": "code",
   "execution_count": null,
   "metadata": {},
   "outputs": [],
   "source": [
    "\n",
    "g['production'].apply(lambda g: integrate.trapz(g, x=g.index))\n"
   ]
  },
  {
   "cell_type": "code",
   "execution_count": null,
   "metadata": {},
   "outputs": [],
   "source": [
    "g.apply(lambda g: integrate.trapz(g.consumption, ))"
   ]
  }
 ],
 "metadata": {
  "interpreter": {
   "hash": "4a20633f9c916463527cd54f92f40b9313fad59afe3f7f7262ff5dde4cf75d13"
  },
  "kernelspec": {
   "display_name": "Python 3.8.12 64-bit ('covid8')",
   "language": "python",
   "name": "python3"
  },
  "language_info": {
   "codemirror_mode": {
    "name": "ipython",
    "version": 3
   },
   "file_extension": ".py",
   "mimetype": "text/x-python",
   "name": "python",
   "nbconvert_exporter": "python",
   "pygments_lexer": "ipython3",
   "version": "3.8.12"
  },
  "orig_nbformat": 4
 },
 "nbformat": 4,
 "nbformat_minor": 2
}
