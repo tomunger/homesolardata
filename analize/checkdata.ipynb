{
 "cells": [
  {
   "cell_type": "markdown",
   "metadata": {},
   "source": [
    "# Some utilities to check my dataset."
   ]
  },
  {
   "cell_type": "code",
   "execution_count": 1,
   "metadata": {},
   "outputs": [],
   "source": [
    "import pandas as pd\n",
    "import matplotlib.pyplot as plt\n",
    "import json\n",
    "import math\n",
    "import datetime\n",
    "import sqlalchemy"
   ]
  },
  {
   "cell_type": "code",
   "execution_count": 2,
   "metadata": {},
   "outputs": [],
   "source": [
    "with open(\"../localconfig.json\", \"r\") as f:\n",
    "\tconfig = json.load(f)"
   ]
  },
  {
   "cell_type": "markdown",
   "metadata": {},
   "source": [
    "# Load entire dataset."
   ]
  },
  {
   "cell_type": "code",
   "execution_count": 3,
   "metadata": {},
   "outputs": [],
   "source": [
    "connectionstr = f\"mysql+pymysql://{config['solardb_user']}:{config['solardb_pass']}@{config['solardb_host']}/{config['solardb_name']}?charset=utf8mb4\"\n",
    "engine = sqlalchemy.create_engine(connectionstr)\n",
    "engine.connect()\n",
    "\n",
    "#solardf = pd.read_sql_table('production', engine)\n",
    "sql =  '''\n",
    "SELECT production_key, datetime, consumption, production FROM production \n",
    "\tORDER by datetime asc\n",
    "'''\n",
    "solardf = pd.read_sql(sql, engine)"
   ]
  },
  {
   "cell_type": "code",
   "execution_count": 4,
   "metadata": {},
   "outputs": [
    {
     "data": {
      "text/html": [
       "<div>\n",
       "<style scoped>\n",
       "    .dataframe tbody tr th:only-of-type {\n",
       "        vertical-align: middle;\n",
       "    }\n",
       "\n",
       "    .dataframe tbody tr th {\n",
       "        vertical-align: top;\n",
       "    }\n",
       "\n",
       "    .dataframe thead th {\n",
       "        text-align: right;\n",
       "    }\n",
       "</style>\n",
       "<table border=\"1\" class=\"dataframe\">\n",
       "  <thead>\n",
       "    <tr style=\"text-align: right;\">\n",
       "      <th></th>\n",
       "      <th>production_key</th>\n",
       "      <th>datetime</th>\n",
       "      <th>consumption</th>\n",
       "      <th>production</th>\n",
       "    </tr>\n",
       "  </thead>\n",
       "  <tbody>\n",
       "    <tr>\n",
       "      <th>0</th>\n",
       "      <td>285</td>\n",
       "      <td>2022-06-07 09:34:00.150</td>\n",
       "      <td>529.433</td>\n",
       "      <td>3600.19</td>\n",
       "    </tr>\n",
       "    <tr>\n",
       "      <th>1</th>\n",
       "      <td>286</td>\n",
       "      <td>2022-06-07 09:34:10.330</td>\n",
       "      <td>530.003</td>\n",
       "      <td>3606.24</td>\n",
       "    </tr>\n",
       "    <tr>\n",
       "      <th>2</th>\n",
       "      <td>287</td>\n",
       "      <td>2022-06-07 09:34:20.380</td>\n",
       "      <td>532.417</td>\n",
       "      <td>3605.58</td>\n",
       "    </tr>\n",
       "    <tr>\n",
       "      <th>3</th>\n",
       "      <td>288</td>\n",
       "      <td>2022-06-07 09:34:30.510</td>\n",
       "      <td>418.868</td>\n",
       "      <td>3604.08</td>\n",
       "    </tr>\n",
       "    <tr>\n",
       "      <th>4</th>\n",
       "      <td>289</td>\n",
       "      <td>2022-06-07 09:34:40.550</td>\n",
       "      <td>421.551</td>\n",
       "      <td>3608.15</td>\n",
       "    </tr>\n",
       "    <tr>\n",
       "      <th>...</th>\n",
       "      <td>...</td>\n",
       "      <td>...</td>\n",
       "      <td>...</td>\n",
       "      <td>...</td>\n",
       "    </tr>\n",
       "    <tr>\n",
       "      <th>66708</th>\n",
       "      <td>66709</td>\n",
       "      <td>2022-07-01 14:29:51.960</td>\n",
       "      <td>448.377</td>\n",
       "      <td>6859.33</td>\n",
       "    </tr>\n",
       "    <tr>\n",
       "      <th>66709</th>\n",
       "      <td>66710</td>\n",
       "      <td>2022-07-01 14:30:02.000</td>\n",
       "      <td>450.243</td>\n",
       "      <td>6863.06</td>\n",
       "    </tr>\n",
       "    <tr>\n",
       "      <th>66710</th>\n",
       "      <td>66711</td>\n",
       "      <td>2022-07-01 14:30:12.040</td>\n",
       "      <td>442.056</td>\n",
       "      <td>6864.81</td>\n",
       "    </tr>\n",
       "    <tr>\n",
       "      <th>66711</th>\n",
       "      <td>66712</td>\n",
       "      <td>2022-07-01 14:30:22.190</td>\n",
       "      <td>438.241</td>\n",
       "      <td>6861.46</td>\n",
       "    </tr>\n",
       "    <tr>\n",
       "      <th>66712</th>\n",
       "      <td>66713</td>\n",
       "      <td>2022-07-01 14:30:32.350</td>\n",
       "      <td>444.513</td>\n",
       "      <td>6865.42</td>\n",
       "    </tr>\n",
       "  </tbody>\n",
       "</table>\n",
       "<p>66713 rows × 4 columns</p>\n",
       "</div>"
      ],
      "text/plain": [
       "       production_key                datetime  consumption  production\n",
       "0                 285 2022-06-07 09:34:00.150      529.433     3600.19\n",
       "1                 286 2022-06-07 09:34:10.330      530.003     3606.24\n",
       "2                 287 2022-06-07 09:34:20.380      532.417     3605.58\n",
       "3                 288 2022-06-07 09:34:30.510      418.868     3604.08\n",
       "4                 289 2022-06-07 09:34:40.550      421.551     3608.15\n",
       "...               ...                     ...          ...         ...\n",
       "66708           66709 2022-07-01 14:29:51.960      448.377     6859.33\n",
       "66709           66710 2022-07-01 14:30:02.000      450.243     6863.06\n",
       "66710           66711 2022-07-01 14:30:12.040      442.056     6864.81\n",
       "66711           66712 2022-07-01 14:30:22.190      438.241     6861.46\n",
       "66712           66713 2022-07-01 14:30:32.350      444.513     6865.42\n",
       "\n",
       "[66713 rows x 4 columns]"
      ]
     },
     "execution_count": 4,
     "metadata": {},
     "output_type": "execute_result"
    }
   ],
   "source": [
    "solardf"
   ]
  },
  {
   "cell_type": "markdown",
   "metadata": {},
   "source": [
    "# some basic data checks."
   ]
  },
  {
   "cell_type": "code",
   "execution_count": 5,
   "metadata": {},
   "outputs": [
    {
     "data": {
      "text/plain": [
       "count    66713.000000\n",
       "mean       727.771602\n",
       "std        727.812977\n",
       "min        164.181000\n",
       "25%        328.737000\n",
       "50%        448.010000\n",
       "75%        884.351000\n",
       "max      10309.400000\n",
       "Name: consumption, dtype: float64"
      ]
     },
     "execution_count": 5,
     "metadata": {},
     "output_type": "execute_result"
    }
   ],
   "source": [
    "solardf['consumption'].describe()"
   ]
  },
  {
   "cell_type": "code",
   "execution_count": 6,
   "metadata": {},
   "outputs": [
    {
     "data": {
      "text/plain": [
       "count    66713.000000\n",
       "mean      1834.498562\n",
       "std       2372.550273\n",
       "min          0.000000\n",
       "25%          0.000000\n",
       "50%        387.162000\n",
       "75%       3368.110000\n",
       "max       7114.190000\n",
       "Name: production, dtype: float64"
      ]
     },
     "execution_count": 6,
     "metadata": {},
     "output_type": "execute_result"
    }
   ],
   "source": [
    "solardf['production'].describe()"
   ]
  },
  {
   "cell_type": "code",
   "execution_count": 7,
   "metadata": {},
   "outputs": [
    {
     "name": "stdout",
     "output_type": "stream",
     "text": [
      "consumption min 164.181 max 10309.4\n",
      "production min 0.0 max 7114.19\n"
     ]
    }
   ],
   "source": [
    "cons = (solardf['consumption'].min(), solardf['consumption'].max())\n",
    "prod = (solardf['production'].min(), solardf['production'].max())\n",
    "print (f\"consumption min {cons[0]} max {cons[1]}\")\n",
    "print (f\"production min {prod[0]} max {prod[1]}\")"
   ]
  },
  {
   "cell_type": "code",
   "execution_count": 8,
   "metadata": {},
   "outputs": [
    {
     "data": {
      "text/plain": [
       "numpy.datetime64('2022-06-27T14:29:21.360000000')"
      ]
     },
     "execution_count": 8,
     "metadata": {},
     "output_type": "execute_result"
    }
   ],
   "source": [
    "dt = (solardf[solardf['production'] == prod[1]])['datetime'].values[0]\n",
    "dt\n",
    "#dt = (solardf[solardf['production'] == prod[1]]).values[1,0]\n",
    "#print (dt.strftime('%Y-%m-%d %H:%M:%S'))"
   ]
  },
  {
   "cell_type": "markdown",
   "metadata": {},
   "source": [
    "# Plots which let us visualize the distribution."
   ]
  },
  {
   "cell_type": "code",
   "execution_count": 9,
   "metadata": {},
   "outputs": [
    {
     "data": {
      "text/plain": [
       "<AxesSubplot:>"
      ]
     },
     "execution_count": 9,
     "metadata": {},
     "output_type": "execute_result"
    },
    {
     "data": {
      "image/png": "[encoded data removed]",
      "text/plain": [
       "<Figure size 432x288 with 1 Axes>"
      ]
     },
     "metadata": {
      "needs_background": "light"
     },
     "output_type": "display_data"
    }
   ],
   "source": [
    "solardf['production'].hist()"
   ]
  },
  {
   "cell_type": "code",
   "execution_count": 10,
   "metadata": {},
   "outputs": [
    {
     "data": {
      "text/plain": [
       "<AxesSubplot:>"
      ]
     },
     "execution_count": 10,
     "metadata": {},
     "output_type": "execute_result"
    },
    {
     "data": {
      "image/png": "[encoded data removed]",
      "text/plain": [
       "<Figure size 432x288 with 1 Axes>"
      ]
     },
     "metadata": {
      "needs_background": "light"
     },
     "output_type": "display_data"
    }
   ],
   "source": [
    "solardf['consumption'].hist()"
   ]
  },
  {
   "cell_type": "markdown",
   "metadata": {},
   "source": [
    "# Check for gaps in the data series.\n",
    "\n",
    "Since I log every 10 seconds, look for gaps greater than 60 seconds"
   ]
  },
  {
   "cell_type": "code",
   "execution_count": 11,
   "metadata": {},
   "outputs": [],
   "source": [
    "# Calculate time interval from previous row.  \n",
    "#data_intervals = solardf['datetime'].subtract(solardf['datetime'].shift(1)).dropna()\n",
    "data_intervals = solardf['datetime'].diff().dropna()\n",
    "\n",
    "# Add two columns:  interval as timedelta and as seconds\n",
    "solardf['interval'] = data_intervals\n",
    "solardf['intervalsec'] = data_intervals.apply(lambda x: x.seconds)"
   ]
  },
  {
   "cell_type": "code",
   "execution_count": 12,
   "metadata": {},
   "outputs": [],
   "source": [
    "longdelayds = solardf[solardf['intervalsec'] > 120]\n"
   ]
  },
  {
   "cell_type": "code",
   "execution_count": 13,
   "metadata": {},
   "outputs": [],
   "source": [
    "longdelayds.to_csv(f\"local_{config['solardb_name']}_{config['solardb_table']}_longdelay.csv\")"
   ]
  },
  {
   "cell_type": "code",
   "execution_count": 14,
   "metadata": {},
   "outputs": [
    {
     "name": "stdout",
     "output_type": "stream",
     "text": [
      "720\n"
     ]
    },
    {
     "data": {
      "text/plain": [
       "<AxesSubplot:>"
      ]
     },
     "execution_count": 14,
     "metadata": {},
     "output_type": "execute_result"
    },
    {
     "data": {
      "image/png": "[encoded data removed]",
      "text/plain": [
       "<Figure size 432x288 with 1 Axes>"
      ]
     },
     "metadata": {
      "needs_background": "light"
     },
     "output_type": "display_data"
    }
   ],
   "source": [
    "delaymins = longdelayds['intervalsec']/60\n",
    "bins = math.ceil(delaymins.max()/60) * 30\n",
    "print (bins)\n",
    "(longdelayds['intervalsec']/60).hist(bins=bins)"
   ]
  },
  {
   "cell_type": "code",
   "execution_count": 15,
   "metadata": {},
   "outputs": [
    {
     "data": {
      "text/html": [
       "<div>\n",
       "<style scoped>\n",
       "    .dataframe tbody tr th:only-of-type {\n",
       "        vertical-align: middle;\n",
       "    }\n",
       "\n",
       "    .dataframe tbody tr th {\n",
       "        vertical-align: top;\n",
       "    }\n",
       "\n",
       "    .dataframe thead th {\n",
       "        text-align: right;\n",
       "    }\n",
       "</style>\n",
       "<table border=\"1\" class=\"dataframe\">\n",
       "  <thead>\n",
       "    <tr style=\"text-align: right;\">\n",
       "      <th></th>\n",
       "      <th>production_key</th>\n",
       "      <th>datetime</th>\n",
       "      <th>consumption</th>\n",
       "      <th>production</th>\n",
       "      <th>interval</th>\n",
       "      <th>intervalsec</th>\n",
       "    </tr>\n",
       "  </thead>\n",
       "  <tbody>\n",
       "    <tr>\n",
       "      <th>6</th>\n",
       "      <td>291</td>\n",
       "      <td>2022-06-07 09:54:01.790</td>\n",
       "      <td>318.136</td>\n",
       "      <td>4080.560</td>\n",
       "      <td>0 days 00:19:10.910000</td>\n",
       "      <td>1150.0</td>\n",
       "    </tr>\n",
       "    <tr>\n",
       "      <th>8</th>\n",
       "      <td>1</td>\n",
       "      <td>2022-06-07 13:40:47.510</td>\n",
       "      <td>376.620</td>\n",
       "      <td>295.283</td>\n",
       "      <td>0 days 03:46:35.640000</td>\n",
       "      <td>13595.0</td>\n",
       "    </tr>\n",
       "    <tr>\n",
       "      <th>207</th>\n",
       "      <td>200</td>\n",
       "      <td>2022-06-07 14:47:29.980</td>\n",
       "      <td>1184.660</td>\n",
       "      <td>1314.790</td>\n",
       "      <td>0 days 00:30:37.390000</td>\n",
       "      <td>1837.0</td>\n",
       "    </tr>\n",
       "    <tr>\n",
       "      <th>213</th>\n",
       "      <td>206</td>\n",
       "      <td>2022-06-07 16:19:20.980</td>\n",
       "      <td>552.698</td>\n",
       "      <td>3265.140</td>\n",
       "      <td>0 days 01:30:50.710000</td>\n",
       "      <td>5450.0</td>\n",
       "    </tr>\n",
       "    <tr>\n",
       "      <th>292</th>\n",
       "      <td>293</td>\n",
       "      <td>2022-06-18 09:39:27.590</td>\n",
       "      <td>1663.020</td>\n",
       "      <td>2052.480</td>\n",
       "      <td>10 days 17:06:53</td>\n",
       "      <td>61613.0</td>\n",
       "    </tr>\n",
       "    <tr>\n",
       "      <th>295</th>\n",
       "      <td>296</td>\n",
       "      <td>2022-06-19 09:10:24.940</td>\n",
       "      <td>1719.180</td>\n",
       "      <td>1061.750</td>\n",
       "      <td>0 days 23:30:36.870000</td>\n",
       "      <td>84636.0</td>\n",
       "    </tr>\n",
       "    <tr>\n",
       "      <th>373</th>\n",
       "      <td>374</td>\n",
       "      <td>2022-06-19 09:28:01.940</td>\n",
       "      <td>1557.530</td>\n",
       "      <td>1306.830</td>\n",
       "      <td>0 days 00:03:23.950000</td>\n",
       "      <td>203.0</td>\n",
       "    </tr>\n",
       "    <tr>\n",
       "      <th>454</th>\n",
       "      <td>455</td>\n",
       "      <td>2022-06-19 10:00:50.250</td>\n",
       "      <td>336.426</td>\n",
       "      <td>1263.590</td>\n",
       "      <td>0 days 00:17:20.170000</td>\n",
       "      <td>1040.0</td>\n",
       "    </tr>\n",
       "    <tr>\n",
       "      <th>457</th>\n",
       "      <td>458</td>\n",
       "      <td>2022-06-19 10:18:21.780</td>\n",
       "      <td>595.167</td>\n",
       "      <td>1890.960</td>\n",
       "      <td>0 days 00:17:10.830000</td>\n",
       "      <td>1030.0</td>\n",
       "    </tr>\n",
       "    <tr>\n",
       "      <th>462</th>\n",
       "      <td>463</td>\n",
       "      <td>2022-06-19 10:35:40.600</td>\n",
       "      <td>1513.020</td>\n",
       "      <td>1547.190</td>\n",
       "      <td>0 days 00:16:21.750000</td>\n",
       "      <td>981.0</td>\n",
       "    </tr>\n",
       "    <tr>\n",
       "      <th>466</th>\n",
       "      <td>467</td>\n",
       "      <td>2022-06-19 13:05:35.710</td>\n",
       "      <td>409.167</td>\n",
       "      <td>1707.210</td>\n",
       "      <td>0 days 02:29:23.590000</td>\n",
       "      <td>8963.0</td>\n",
       "    </tr>\n",
       "    <tr>\n",
       "      <th>484</th>\n",
       "      <td>485</td>\n",
       "      <td>2022-06-23 16:36:52.240</td>\n",
       "      <td>530.231</td>\n",
       "      <td>5904.770</td>\n",
       "      <td>4 days 03:28:12.490000</td>\n",
       "      <td>12492.0</td>\n",
       "    </tr>\n",
       "    <tr>\n",
       "      <th>66647</th>\n",
       "      <td>66648</td>\n",
       "      <td>2022-07-01 12:19:51.440</td>\n",
       "      <td>475.860</td>\n",
       "      <td>6295.070</td>\n",
       "      <td>0 days 00:05:35.090000</td>\n",
       "      <td>335.0</td>\n",
       "    </tr>\n",
       "    <tr>\n",
       "      <th>66669</th>\n",
       "      <td>66670</td>\n",
       "      <td>2022-07-01 12:27:29.130</td>\n",
       "      <td>534.669</td>\n",
       "      <td>6357.490</td>\n",
       "      <td>0 days 00:04:03.770000</td>\n",
       "      <td>243.0</td>\n",
       "    </tr>\n",
       "    <tr>\n",
       "      <th>66671</th>\n",
       "      <td>66672</td>\n",
       "      <td>2022-07-01 14:21:50.610</td>\n",
       "      <td>387.986</td>\n",
       "      <td>6868.290</td>\n",
       "      <td>0 days 01:54:10.990000</td>\n",
       "      <td>6850.0</td>\n",
       "    </tr>\n",
       "  </tbody>\n",
       "</table>\n",
       "</div>"
      ],
      "text/plain": [
       "       production_key                datetime  consumption  production  \\\n",
       "6                 291 2022-06-07 09:54:01.790      318.136    4080.560   \n",
       "8                   1 2022-06-07 13:40:47.510      376.620     295.283   \n",
       "207               200 2022-06-07 14:47:29.980     1184.660    1314.790   \n",
       "213               206 2022-06-07 16:19:20.980      552.698    3265.140   \n",
       "292               293 2022-06-18 09:39:27.590     1663.020    2052.480   \n",
       "295               296 2022-06-19 09:10:24.940     1719.180    1061.750   \n",
       "373               374 2022-06-19 09:28:01.940     1557.530    1306.830   \n",
       "454               455 2022-06-19 10:00:50.250      336.426    1263.590   \n",
       "457               458 2022-06-19 10:18:21.780      595.167    1890.960   \n",
       "462               463 2022-06-19 10:35:40.600     1513.020    1547.190   \n",
       "466               467 2022-06-19 13:05:35.710      409.167    1707.210   \n",
       "484               485 2022-06-23 16:36:52.240      530.231    5904.770   \n",
       "66647           66648 2022-07-01 12:19:51.440      475.860    6295.070   \n",
       "66669           66670 2022-07-01 12:27:29.130      534.669    6357.490   \n",
       "66671           66672 2022-07-01 14:21:50.610      387.986    6868.290   \n",
       "\n",
       "                    interval  intervalsec  \n",
       "6     0 days 00:19:10.910000       1150.0  \n",
       "8     0 days 03:46:35.640000      13595.0  \n",
       "207   0 days 00:30:37.390000       1837.0  \n",
       "213   0 days 01:30:50.710000       5450.0  \n",
       "292         10 days 17:06:53      61613.0  \n",
       "295   0 days 23:30:36.870000      84636.0  \n",
       "373   0 days 00:03:23.950000        203.0  \n",
       "454   0 days 00:17:20.170000       1040.0  \n",
       "457   0 days 00:17:10.830000       1030.0  \n",
       "462   0 days 00:16:21.750000        981.0  \n",
       "466   0 days 02:29:23.590000       8963.0  \n",
       "484   4 days 03:28:12.490000      12492.0  \n",
       "66647 0 days 00:05:35.090000        335.0  \n",
       "66669 0 days 00:04:03.770000        243.0  \n",
       "66671 0 days 01:54:10.990000       6850.0  "
      ]
     },
     "execution_count": 15,
     "metadata": {},
     "output_type": "execute_result"
    }
   ],
   "source": [
    "longdelayds"
   ]
  }
 ],
 "metadata": {
  "interpreter": {
   "hash": "4a20633f9c916463527cd54f92f40b9313fad59afe3f7f7262ff5dde4cf75d13"
  },
  "kernelspec": {
   "display_name": "Python 3.8.12 64-bit ('covid8')",
   "language": "python",
   "name": "python3"
  },
  "language_info": {
   "codemirror_mode": {
    "name": "ipython",
    "version": 3
   },
   "file_extension": ".py",
   "mimetype": "text/x-python",
   "name": "python",
   "nbconvert_exporter": "python",
   "pygments_lexer": "ipython3",
   "version": "3.8.12"
  },
  "orig_nbformat": 4
 },
 "nbformat": 4,
 "nbformat_minor": 2
}
