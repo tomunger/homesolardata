{
 "cells": [
  {
   "cell_type": "markdown",
   "metadata": {},
   "source": [
    "# Some utilities to check my dataset."
   ]
  },
  {
   "cell_type": "code",
   "execution_count": null,
   "metadata": {},
   "outputs": [],
   "source": [
    "import pandas as pd\n",
    "import matplotlib.pyplot as plt\n",
    "import json\n",
    "import math\n",
    "import datetime\n",
    "import sqlalchemy"
   ]
  },
  {
   "cell_type": "code",
   "execution_count": 21,
   "metadata": {},
   "outputs": [
    {
     "name": "stdout",
     "output_type": "stream",
     "text": [
      "{'solardb_user': 'root', 'solardb_pass': 'ioCs4jUxMPnDrMUE.iiP', 'solardb_name': 'enphasetest', 'solardb_table': 'production', 'solardb_host': 'localhost', 'solardb_port': '3306', 'TZ': 'America/Los_Angeles'}\n"
     ]
    }
   ],
   "source": [
    "with open(\"../local-database.json\", \"r\") as f:\n",
    "\tconfig = json.load(f)\n",
    "\n",
    "print (config)"
   ]
  },
  {
   "cell_type": "markdown",
   "metadata": {},
   "source": [
    "# Load entire dataset."
   ]
  },
  {
   "cell_type": "code",
   "execution_count": 22,
   "metadata": {},
   "outputs": [],
   "source": [
    "connectionstr = f\"mysql+pymysql://{config['solardb_user']}:{config['solardb_pass']}@{config['solardb_host']}/{config['solardb_name']}?charset=utf8mb4\"\n",
    "engine = sqlalchemy.create_engine(connectionstr)\n",
    "engine.connect()\n",
    "\n",
    "#solardf = pd.read_sql_table('production', engine)\n",
    "sql =  '''\n",
    "SELECT production_key, datetime, consumption, production FROM production \n",
    "\tORDER by datetime asc\n",
    "'''\n",
    "solardf = pd.read_sql(sql, engine)"
   ]
  },
  {
   "cell_type": "code",
   "execution_count": 23,
   "metadata": {},
   "outputs": [
    {
     "data": {
      "text/html": [
       "<div>\n",
       "<style scoped>\n",
       "    .dataframe tbody tr th:only-of-type {\n",
       "        vertical-align: middle;\n",
       "    }\n",
       "\n",
       "    .dataframe tbody tr th {\n",
       "        vertical-align: top;\n",
       "    }\n",
       "\n",
       "    .dataframe thead th {\n",
       "        text-align: right;\n",
       "    }\n",
       "</style>\n",
       "<table border=\"1\" class=\"dataframe\">\n",
       "  <thead>\n",
       "    <tr style=\"text-align: right;\">\n",
       "      <th></th>\n",
       "      <th>production_key</th>\n",
       "      <th>datetime</th>\n",
       "      <th>consumption</th>\n",
       "      <th>production</th>\n",
       "    </tr>\n",
       "  </thead>\n",
       "  <tbody>\n",
       "    <tr>\n",
       "      <th>0</th>\n",
       "      <td>91469</td>\n",
       "      <td>2023-04-30 14:48:35.850</td>\n",
       "      <td>879.996</td>\n",
       "      <td>4231.910</td>\n",
       "    </tr>\n",
       "    <tr>\n",
       "      <th>1</th>\n",
       "      <td>91470</td>\n",
       "      <td>2023-04-30 14:49:04.520</td>\n",
       "      <td>858.796</td>\n",
       "      <td>3323.630</td>\n",
       "    </tr>\n",
       "    <tr>\n",
       "      <th>2</th>\n",
       "      <td>91471</td>\n",
       "      <td>2023-04-30 14:49:14.730</td>\n",
       "      <td>855.712</td>\n",
       "      <td>3109.250</td>\n",
       "    </tr>\n",
       "    <tr>\n",
       "      <th>3</th>\n",
       "      <td>91472</td>\n",
       "      <td>2023-04-30 14:49:25.030</td>\n",
       "      <td>1135.390</td>\n",
       "      <td>2987.830</td>\n",
       "    </tr>\n",
       "    <tr>\n",
       "      <th>4</th>\n",
       "      <td>91473</td>\n",
       "      <td>2023-04-30 14:49:35.220</td>\n",
       "      <td>916.953</td>\n",
       "      <td>2890.010</td>\n",
       "    </tr>\n",
       "    <tr>\n",
       "      <th>...</th>\n",
       "      <td>...</td>\n",
       "      <td>...</td>\n",
       "      <td>...</td>\n",
       "      <td>...</td>\n",
       "    </tr>\n",
       "    <tr>\n",
       "      <th>235885</th>\n",
       "      <td>327354</td>\n",
       "      <td>2023-11-10 07:43:43.630</td>\n",
       "      <td>2407.010</td>\n",
       "      <td>221.711</td>\n",
       "    </tr>\n",
       "    <tr>\n",
       "      <th>235886</th>\n",
       "      <td>327355</td>\n",
       "      <td>2023-11-10 07:44:43.900</td>\n",
       "      <td>2391.130</td>\n",
       "      <td>221.004</td>\n",
       "    </tr>\n",
       "    <tr>\n",
       "      <th>235887</th>\n",
       "      <td>327356</td>\n",
       "      <td>2023-11-10 07:45:44.150</td>\n",
       "      <td>2248.820</td>\n",
       "      <td>222.149</td>\n",
       "    </tr>\n",
       "    <tr>\n",
       "      <th>235888</th>\n",
       "      <td>327357</td>\n",
       "      <td>2023-11-10 07:46:44.430</td>\n",
       "      <td>2342.470</td>\n",
       "      <td>223.529</td>\n",
       "    </tr>\n",
       "    <tr>\n",
       "      <th>235889</th>\n",
       "      <td>327358</td>\n",
       "      <td>2023-11-10 07:47:44.720</td>\n",
       "      <td>1662.040</td>\n",
       "      <td>214.941</td>\n",
       "    </tr>\n",
       "  </tbody>\n",
       "</table>\n",
       "<p>235890 rows × 4 columns</p>\n",
       "</div>"
      ],
      "text/plain": [
       "        production_key                datetime  consumption  production\n",
       "0                91469 2023-04-30 14:48:35.850      879.996    4231.910\n",
       "1                91470 2023-04-30 14:49:04.520      858.796    3323.630\n",
       "2                91471 2023-04-30 14:49:14.730      855.712    3109.250\n",
       "3                91472 2023-04-30 14:49:25.030     1135.390    2987.830\n",
       "4                91473 2023-04-30 14:49:35.220      916.953    2890.010\n",
       "...                ...                     ...          ...         ...\n",
       "235885          327354 2023-11-10 07:43:43.630     2407.010     221.711\n",
       "235886          327355 2023-11-10 07:44:43.900     2391.130     221.004\n",
       "235887          327356 2023-11-10 07:45:44.150     2248.820     222.149\n",
       "235888          327357 2023-11-10 07:46:44.430     2342.470     223.529\n",
       "235889          327358 2023-11-10 07:47:44.720     1662.040     214.941\n",
       "\n",
       "[235890 rows x 4 columns]"
      ]
     },
     "execution_count": 23,
     "metadata": {},
     "output_type": "execute_result"
    }
   ],
   "source": [
    "solardf"
   ]
  },
  {
   "cell_type": "markdown",
   "metadata": {},
   "source": [
    "# some basic data checks."
   ]
  },
  {
   "cell_type": "code",
   "execution_count": 24,
   "metadata": {},
   "outputs": [
    {
     "data": {
      "text/plain": [
       "count    235890.000000\n",
       "mean       1438.801346\n",
       "std        2763.617048\n",
       "min           0.000000\n",
       "25%         359.347250\n",
       "50%         483.573500\n",
       "75%        1057.695000\n",
       "max       20932.200000\n",
       "Name: consumption, dtype: float64"
      ]
     },
     "execution_count": 24,
     "metadata": {},
     "output_type": "execute_result"
    }
   ],
   "source": [
    "solardf['consumption'].describe()"
   ]
  },
  {
   "cell_type": "code",
   "execution_count": 25,
   "metadata": {},
   "outputs": [
    {
     "data": {
      "text/plain": [
       "count    235890.000000\n",
       "mean       1387.937331\n",
       "std        2049.245662\n",
       "min           0.000000\n",
       "25%           0.000000\n",
       "50%         153.291000\n",
       "75%        2193.487500\n",
       "max        7120.210000\n",
       "Name: production, dtype: float64"
      ]
     },
     "execution_count": 25,
     "metadata": {},
     "output_type": "execute_result"
    }
   ],
   "source": [
    "solardf['production'].describe()"
   ]
  },
  {
   "cell_type": "code",
   "execution_count": 26,
   "metadata": {},
   "outputs": [
    {
     "name": "stdout",
     "output_type": "stream",
     "text": [
      "consumption min 0.0 max 20932.2\n",
      "production min 0.0 max 7120.21\n"
     ]
    }
   ],
   "source": [
    "cons = (solardf['consumption'].min(), solardf['consumption'].max())\n",
    "prod = (solardf['production'].min(), solardf['production'].max())\n",
    "print (f\"consumption min {cons[0]} max {cons[1]}\")\n",
    "print (f\"production min {prod[0]} max {prod[1]}\")"
   ]
  },
  {
   "cell_type": "code",
   "execution_count": 27,
   "metadata": {},
   "outputs": [
    {
     "data": {
      "text/plain": [
       "numpy.datetime64('2023-06-15T14:51:15.760000000')"
      ]
     },
     "execution_count": 27,
     "metadata": {},
     "output_type": "execute_result"
    }
   ],
   "source": [
    "# time of max production\n",
    "dt = (solardf[solardf['production'] == prod[1]])['datetime'].values[0]\n",
    "dt\n",
    "#dt = (solardf[solardf['production'] == prod[1]]).values[1,0]\n",
    "#print (dt.strftime('%Y-%m-%d %H:%M:%S'))"
   ]
  },
  {
   "cell_type": "markdown",
   "metadata": {},
   "source": [
    "# Plots which let us visualize the distribution."
   ]
  },
  {
   "cell_type": "code",
   "execution_count": 28,
   "metadata": {},
   "outputs": [
    {
     "data": {
      "text/plain": [
       "<Axes: >"
      ]
     },
     "execution_count": 28,
     "metadata": {},
     "output_type": "execute_result"
    },
    {
     "data": {
      "image/png": "[encoded data removed]",
      "text/plain": [
       "<Figure size 640x480 with 1 Axes>"
      ]
     },
     "metadata": {},
     "output_type": "display_data"
    }
   ],
   "source": [
    "solardf['production'].hist()"
   ]
  },
  {
   "cell_type": "code",
   "execution_count": 29,
   "metadata": {},
   "outputs": [
    {
     "data": {
      "text/plain": [
       "<Axes: >"
      ]
     },
     "execution_count": 29,
     "metadata": {},
     "output_type": "execute_result"
    },
    {
     "data": {
      "image/png": "[encoded data removed]",
      "text/plain": [
       "<Figure size 640x480 with 1 Axes>"
      ]
     },
     "metadata": {},
     "output_type": "display_data"
    }
   ],
   "source": [
    "solardf['consumption'].hist()"
   ]
  },
  {
   "cell_type": "markdown",
   "metadata": {},
   "source": [
    "# Check for gaps in the data series.\n",
    "\n",
    "Since I log every 10 seconds, look for gaps greater than .. well, something large enough to be of interest."
   ]
  },
  {
   "cell_type": "code",
   "execution_count": 30,
   "metadata": {},
   "outputs": [],
   "source": [
    "# Calculate time interval from previous row.  \n",
    "#data_intervals = solardf['datetime'].subtract(solardf['datetime'].shift(1)).dropna()\n",
    "data_intervals = solardf['datetime'].diff().dropna()\n",
    "\n",
    "# Add two columns:  interval as timedelta and as seconds\n",
    "solardf['interval'] = data_intervals\n",
    "solardf['intervalsec'] = data_intervals.apply(lambda x: x.seconds)\n",
    "longdelayds = solardf[solardf['intervalsec'] > 300]\n"
   ]
  },
  {
   "cell_type": "code",
   "execution_count": 34,
   "metadata": {},
   "outputs": [],
   "source": [
    "longdelayds.to_csv(f\"local_{config['solardb_name']}_{config['solardb_table']}_longdelay.csv\")"
   ]
  },
  {
   "cell_type": "code",
   "execution_count": null,
   "metadata": {},
   "outputs": [],
   "source": [
    "delaymins = longdelayds['intervalsec']/60\n",
    "bins = math.ceil(delaymins.max()/60) * 30\n",
    "print (bins)\n",
    "(longdelayds['intervalsec']/60).hist(bins=bins)"
   ]
  },
  {
   "cell_type": "code",
   "execution_count": null,
   "metadata": {},
   "outputs": [],
   "source": [
    "longdelayds"
   ]
  }
 ],
 "metadata": {
  "kernelspec": {
   "display_name": "Python 3.10.8 64-bit ('enphase')",
   "language": "python",
   "name": "python3"
  },
  "language_info": {
   "codemirror_mode": {
    "name": "ipython",
    "version": 3
   },
   "file_extension": ".py",
   "mimetype": "text/x-python",
   "name": "python",
   "nbconvert_exporter": "python",
   "pygments_lexer": "ipython3",
   "version": "3.11.5"
  },
  "orig_nbformat": 4,
  "vscode": {
   "interpreter": {
    "hash": "8123321969a9c97989ddc36d5dfa78da6fb5ef0c8348123b2b6902970905182e"
   }
  }
 },
 "nbformat": 4,
 "nbformat_minor": 2
}
