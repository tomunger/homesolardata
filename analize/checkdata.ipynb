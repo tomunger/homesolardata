{
 "cells": [
  {
   "cell_type": "markdown",
   "metadata": {},
   "source": [
    "# Some utilities to check my dataset."
   ]
  },
  {
   "cell_type": "code",
   "execution_count": null,
   "metadata": {},
   "outputs": [],
   "source": [
    "import pandas as pd\n",
    "import matplotlib.pyplot as plt\n",
    "import json\n",
    "import math\n",
    "import datetime\n",
    "import sqlalchemy"
   ]
  },
  {
   "cell_type": "code",
   "execution_count": null,
   "metadata": {},
   "outputs": [],
   "source": [
    "with open(\"../localconfig-prod.json\", \"r\") as f:\n",
    "\tconfig = json.load(f)"
   ]
  },
  {
   "cell_type": "markdown",
   "metadata": {},
   "source": [
    "# Load entire dataset."
   ]
  },
  {
   "cell_type": "code",
   "execution_count": null,
   "metadata": {},
   "outputs": [],
   "source": [
    "connectionstr = f\"mysql+pymysql://{config['solardb_user']}:{config['solardb_pass']}@{config['solardb_host']}/{config['solardb_name']}?charset=utf8mb4\"\n",
    "engine = sqlalchemy.create_engine(connectionstr)\n",
    "engine.connect()\n",
    "\n",
    "#solardf = pd.read_sql_table('production', engine)\n",
    "sql =  '''\n",
    "SELECT production_key, datetime, consumption, production FROM production \n",
    "\tORDER by datetime asc\n",
    "'''\n",
    "solardf = pd.read_sql(sql, engine)"
   ]
  },
  {
   "cell_type": "code",
   "execution_count": null,
   "metadata": {},
   "outputs": [],
   "source": [
    "solardf"
   ]
  },
  {
   "cell_type": "markdown",
   "metadata": {},
   "source": [
    "# some basic data checks."
   ]
  },
  {
   "cell_type": "code",
   "execution_count": null,
   "metadata": {},
   "outputs": [],
   "source": [
    "solardf['consumption'].describe()"
   ]
  },
  {
   "cell_type": "code",
   "execution_count": null,
   "metadata": {},
   "outputs": [],
   "source": [
    "solardf['production'].describe()"
   ]
  },
  {
   "cell_type": "code",
   "execution_count": null,
   "metadata": {},
   "outputs": [],
   "source": [
    "cons = (solardf['consumption'].min(), solardf['consumption'].max())\n",
    "prod = (solardf['production'].min(), solardf['production'].max())\n",
    "print (f\"consumption min {cons[0]} max {cons[1]}\")\n",
    "print (f\"production min {prod[0]} max {prod[1]}\")"
   ]
  },
  {
   "cell_type": "code",
   "execution_count": null,
   "metadata": {},
   "outputs": [],
   "source": [
    "dt = (solardf[solardf['production'] == prod[1]])['datetime'].values[0]\n",
    "dt\n",
    "#dt = (solardf[solardf['production'] == prod[1]]).values[1,0]\n",
    "#print (dt.strftime('%Y-%m-%d %H:%M:%S'))"
   ]
  },
  {
   "cell_type": "markdown",
   "metadata": {},
   "source": [
    "# Plots which let us visualize the distribution."
   ]
  },
  {
   "cell_type": "code",
   "execution_count": null,
   "metadata": {},
   "outputs": [],
   "source": [
    "solardf['production'].hist()"
   ]
  },
  {
   "cell_type": "code",
   "execution_count": null,
   "metadata": {},
   "outputs": [],
   "source": [
    "solardf['consumption'].hist()"
   ]
  },
  {
   "cell_type": "markdown",
   "metadata": {},
   "source": [
    "# Check for gaps in the data series.\n",
    "\n",
    "Since I log every 10 seconds, look for gaps greater than 60 seconds"
   ]
  },
  {
   "cell_type": "code",
   "execution_count": null,
   "metadata": {},
   "outputs": [],
   "source": [
    "# Calculate time interval from previous row.  \n",
    "#data_intervals = solardf['datetime'].subtract(solardf['datetime'].shift(1)).dropna()\n",
    "data_intervals = solardf['datetime'].diff().dropna()\n",
    "\n",
    "# Add two columns:  interval as timedelta and as seconds\n",
    "solardf['interval'] = data_intervals\n",
    "solardf['intervalsec'] = data_intervals.apply(lambda x: x.seconds)"
   ]
  },
  {
   "cell_type": "code",
   "execution_count": null,
   "metadata": {},
   "outputs": [],
   "source": [
    "longdelayds = solardf[solardf['intervalsec'] > 120]\n"
   ]
  },
  {
   "cell_type": "code",
   "execution_count": null,
   "metadata": {},
   "outputs": [],
   "source": [
    "longdelayds.to_csv(f\"local_{config['solardb_name']}_{config['solardb_table']}_longdelay.csv\")"
   ]
  },
  {
   "cell_type": "code",
   "execution_count": null,
   "metadata": {},
   "outputs": [],
   "source": [
    "delaymins = longdelayds['intervalsec']/60\n",
    "bins = math.ceil(delaymins.max()/60) * 30\n",
    "print (bins)\n",
    "(longdelayds['intervalsec']/60).hist(bins=bins)"
   ]
  },
  {
   "cell_type": "code",
   "execution_count": null,
   "metadata": {},
   "outputs": [],
   "source": [
    "longdelayds"
   ]
  }
 ],
 "metadata": {
  "kernelspec": {
   "display_name": "Python 3.10.8 64-bit ('enphase')",
   "language": "python",
   "name": "python3"
  },
  "language_info": {
   "codemirror_mode": {
    "name": "ipython",
    "version": 3
   },
   "file_extension": ".py",
   "mimetype": "text/x-python",
   "name": "python",
   "nbconvert_exporter": "python",
   "pygments_lexer": "ipython3",
   "version": "3.10.8"
  },
  "orig_nbformat": 4,
  "vscode": {
   "interpreter": {
    "hash": "8123321969a9c97989ddc36d5dfa78da6fb5ef0c8348123b2b6902970905182e"
   }
  }
 },
 "nbformat": 4,
 "nbformat_minor": 2
}
