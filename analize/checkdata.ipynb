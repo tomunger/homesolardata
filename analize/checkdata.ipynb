{
 "cells": [
  {
   "cell_type": "markdown",
   "metadata": {},
   "source": [
    "# Some utilities to check my dataset."
   ]
  },
  {
   "cell_type": "code",
   "execution_count": 1,
   "metadata": {},
   "outputs": [],
   "source": [
    "import pandas as pd\n",
    "import matplotlib.pyplot as plt\n",
    "import json\n",
    "import math\n",
    "import datetime\n",
    "import sqlalchemy"
   ]
  },
  {
   "cell_type": "code",
   "execution_count": 2,
   "metadata": {},
   "outputs": [],
   "source": [
    "with open(\"../localconfig.json\", \"r\") as f:\n",
    "\tconfig = json.load(f)"
   ]
  },
  {
   "cell_type": "markdown",
   "metadata": {},
   "source": [
    "# Load entire dataset."
   ]
  },
  {
   "cell_type": "code",
   "execution_count": 3,
   "metadata": {},
   "outputs": [],
   "source": [
    "connectionstr = f\"mysql+pymysql://{config['solardb_user']}:{config['solardb_pass']}@{config['solardb_host']}/{config['solardb_name']}?charset=utf8mb4\"\n",
    "engine = sqlalchemy.create_engine(connectionstr)\n",
    "engine.connect()\n",
    "\n",
    "#solardf = pd.read_sql_table('production', engine)\n",
    "sql =  '''\n",
    "SELECT datetime, consumption, production FROM production \n",
    "\tORDER by datetime asc\n",
    "'''\n",
    "solardf = pd.read_sql(sql, engine)"
   ]
  },
  {
   "cell_type": "code",
   "execution_count": 4,
   "metadata": {},
   "outputs": [
    {
     "data": {
      "text/html": [
       "<div>\n",
       "<style scoped>\n",
       "    .dataframe tbody tr th:only-of-type {\n",
       "        vertical-align: middle;\n",
       "    }\n",
       "\n",
       "    .dataframe tbody tr th {\n",
       "        vertical-align: top;\n",
       "    }\n",
       "\n",
       "    .dataframe thead th {\n",
       "        text-align: right;\n",
       "    }\n",
       "</style>\n",
       "<table border=\"1\" class=\"dataframe\">\n",
       "  <thead>\n",
       "    <tr style=\"text-align: right;\">\n",
       "      <th></th>\n",
       "      <th>datetime</th>\n",
       "      <th>consumption</th>\n",
       "      <th>production</th>\n",
       "    </tr>\n",
       "  </thead>\n",
       "  <tbody>\n",
       "    <tr>\n",
       "      <th>0</th>\n",
       "      <td>2022-05-09 08:48:10.290</td>\n",
       "      <td>1709.900</td>\n",
       "      <td>674.300</td>\n",
       "    </tr>\n",
       "    <tr>\n",
       "      <th>1</th>\n",
       "      <td>2022-05-09 08:48:21.180</td>\n",
       "      <td>1701.600</td>\n",
       "      <td>682.400</td>\n",
       "    </tr>\n",
       "    <tr>\n",
       "      <th>2</th>\n",
       "      <td>2022-05-09 08:48:31.540</td>\n",
       "      <td>1682.300</td>\n",
       "      <td>697.000</td>\n",
       "    </tr>\n",
       "    <tr>\n",
       "      <th>3</th>\n",
       "      <td>2022-05-09 08:48:41.680</td>\n",
       "      <td>1709.000</td>\n",
       "      <td>709.100</td>\n",
       "    </tr>\n",
       "    <tr>\n",
       "      <th>4</th>\n",
       "      <td>2022-05-09 08:48:51.930</td>\n",
       "      <td>1675.700</td>\n",
       "      <td>718.500</td>\n",
       "    </tr>\n",
       "    <tr>\n",
       "      <th>...</th>\n",
       "      <td>...</td>\n",
       "      <td>...</td>\n",
       "      <td>...</td>\n",
       "    </tr>\n",
       "    <tr>\n",
       "      <th>107239</th>\n",
       "      <td>2022-05-22 07:33:43.930</td>\n",
       "      <td>404.415</td>\n",
       "      <td>945.576</td>\n",
       "    </tr>\n",
       "    <tr>\n",
       "      <th>107240</th>\n",
       "      <td>2022-05-22 07:33:54.140</td>\n",
       "      <td>498.681</td>\n",
       "      <td>947.345</td>\n",
       "    </tr>\n",
       "    <tr>\n",
       "      <th>107241</th>\n",
       "      <td>2022-05-22 07:34:04.380</td>\n",
       "      <td>512.094</td>\n",
       "      <td>953.185</td>\n",
       "    </tr>\n",
       "    <tr>\n",
       "      <th>107242</th>\n",
       "      <td>2022-05-22 07:34:14.530</td>\n",
       "      <td>507.305</td>\n",
       "      <td>957.759</td>\n",
       "    </tr>\n",
       "    <tr>\n",
       "      <th>107243</th>\n",
       "      <td>2022-05-22 07:34:24.670</td>\n",
       "      <td>512.276</td>\n",
       "      <td>957.615</td>\n",
       "    </tr>\n",
       "  </tbody>\n",
       "</table>\n",
       "<p>107244 rows × 3 columns</p>\n",
       "</div>"
      ],
      "text/plain": [
       "                      datetime  consumption  production\n",
       "0      2022-05-09 08:48:10.290     1709.900     674.300\n",
       "1      2022-05-09 08:48:21.180     1701.600     682.400\n",
       "2      2022-05-09 08:48:31.540     1682.300     697.000\n",
       "3      2022-05-09 08:48:41.680     1709.000     709.100\n",
       "4      2022-05-09 08:48:51.930     1675.700     718.500\n",
       "...                        ...          ...         ...\n",
       "107239 2022-05-22 07:33:43.930      404.415     945.576\n",
       "107240 2022-05-22 07:33:54.140      498.681     947.345\n",
       "107241 2022-05-22 07:34:04.380      512.094     953.185\n",
       "107242 2022-05-22 07:34:14.530      507.305     957.759\n",
       "107243 2022-05-22 07:34:24.670      512.276     957.615\n",
       "\n",
       "[107244 rows x 3 columns]"
      ]
     },
     "execution_count": 4,
     "metadata": {},
     "output_type": "execute_result"
    }
   ],
   "source": [
    "solardf"
   ]
  },
  {
   "cell_type": "markdown",
   "metadata": {},
   "source": [
    "# some basic data checks."
   ]
  },
  {
   "cell_type": "code",
   "execution_count": 5,
   "metadata": {},
   "outputs": [
    {
     "data": {
      "text/plain": [
       "count    107244.000000\n",
       "mean       1177.865920\n",
       "std        1032.808507\n",
       "min         154.300000\n",
       "25%         378.430750\n",
       "50%        1023.885000\n",
       "75%        1505.600000\n",
       "max       11724.600000\n",
       "Name: consumption, dtype: float64"
      ]
     },
     "execution_count": 5,
     "metadata": {},
     "output_type": "execute_result"
    }
   ],
   "source": [
    "solardf['consumption'].describe()"
   ]
  },
  {
   "cell_type": "code",
   "execution_count": 6,
   "metadata": {},
   "outputs": [
    {
     "data": {
      "text/plain": [
       "count    107244.000000\n",
       "mean       1536.806625\n",
       "std        2178.609317\n",
       "min          -0.000000\n",
       "25%           0.000000\n",
       "50%         356.738000\n",
       "75%        2270.490000\n",
       "max        7127.900000\n",
       "Name: production, dtype: float64"
      ]
     },
     "execution_count": 6,
     "metadata": {},
     "output_type": "execute_result"
    }
   ],
   "source": [
    "solardf['production'].describe()"
   ]
  },
  {
   "cell_type": "code",
   "execution_count": 7,
   "metadata": {},
   "outputs": [
    {
     "name": "stdout",
     "output_type": "stream",
     "text": [
      "consumption min 154.3 max 11724.6\n",
      "production min -0.0 max 7127.9\n"
     ]
    }
   ],
   "source": [
    "cons = (solardf['consumption'].min(), solardf['consumption'].max())\n",
    "prod = (solardf['production'].min(), solardf['production'].max())\n",
    "print (f\"consumption min {cons[0]} max {cons[1]}\")\n",
    "print (f\"production min {prod[0]} max {prod[1]}\")"
   ]
  },
  {
   "cell_type": "code",
   "execution_count": 39,
   "metadata": {},
   "outputs": [
    {
     "name": "stdout",
     "output_type": "stream",
     "text": [
      "2022-05-13 13:57:08\n"
     ]
    }
   ],
   "source": [
    "dt = (solardf[solardf['production'] == prod[1]])['datetime'].values[0]\n",
    "dt = (solardf[solardf['production'] == prod[1]]).values[0,0]\n",
    "print (dt.strftime('%Y-%m-%d %H:%M:%S'))"
   ]
  },
  {
   "cell_type": "markdown",
   "metadata": {},
   "source": [
    "# Plots which let us visualize the distribution."
   ]
  },
  {
   "cell_type": "code",
   "execution_count": 8,
   "metadata": {},
   "outputs": [
    {
     "data": {
      "text/plain": [
       "<AxesSubplot:>"
      ]
     },
     "execution_count": 8,
     "metadata": {},
     "output_type": "execute_result"
    },
    {
     "data": {
      "image/png": "[encoded data removed]",
      "text/plain": [
       "<Figure size 432x288 with 1 Axes>"
      ]
     },
     "metadata": {
      "needs_background": "light"
     },
     "output_type": "display_data"
    }
   ],
   "source": [
    "solardf['production'].hist()"
   ]
  },
  {
   "cell_type": "code",
   "execution_count": 9,
   "metadata": {},
   "outputs": [
    {
     "data": {
      "text/plain": [
       "<AxesSubplot:>"
      ]
     },
     "execution_count": 9,
     "metadata": {},
     "output_type": "execute_result"
    },
    {
     "data": {
      "image/png": "[encoded data removed]",
      "text/plain": [
       "<Figure size 432x288 with 1 Axes>"
      ]
     },
     "metadata": {
      "needs_background": "light"
     },
     "output_type": "display_data"
    }
   ],
   "source": [
    "solardf['consumption'].hist()"
   ]
  },
  {
   "cell_type": "markdown",
   "metadata": {},
   "source": [
    "# Check for gaps in the data series.\n",
    "\n",
    "Since I log every 10 seconds, look for gaps greater than 60 seconds"
   ]
  },
  {
   "cell_type": "code",
   "execution_count": 10,
   "metadata": {},
   "outputs": [],
   "source": [
    "# Calculate time interval from previous row.  \n",
    "#data_intervals = solardf['datetime'].subtract(solardf['datetime'].shift(1)).dropna()\n",
    "data_intervals = solardf['datetime'].diff().dropna()\n",
    "\n",
    "# Add two columns:  interval as timedelta and as seconds\n",
    "solardf['interval'] = data_intervals\n",
    "solardf['intervalsec'] = data_intervals.apply(lambda x: x.seconds)"
   ]
  },
  {
   "cell_type": "code",
   "execution_count": 11,
   "metadata": {},
   "outputs": [
    {
     "data": {
      "text/html": [
       "<div>\n",
       "<style scoped>\n",
       "    .dataframe tbody tr th:only-of-type {\n",
       "        vertical-align: middle;\n",
       "    }\n",
       "\n",
       "    .dataframe tbody tr th {\n",
       "        vertical-align: top;\n",
       "    }\n",
       "\n",
       "    .dataframe thead th {\n",
       "        text-align: right;\n",
       "    }\n",
       "</style>\n",
       "<table border=\"1\" class=\"dataframe\">\n",
       "  <thead>\n",
       "    <tr style=\"text-align: right;\">\n",
       "      <th></th>\n",
       "      <th>datetime</th>\n",
       "      <th>consumption</th>\n",
       "      <th>production</th>\n",
       "      <th>interval</th>\n",
       "      <th>intervalsec</th>\n",
       "    </tr>\n",
       "  </thead>\n",
       "  <tbody>\n",
       "    <tr>\n",
       "      <th>8468</th>\n",
       "      <td>2022-05-10 09:12:55.780</td>\n",
       "      <td>2102.200</td>\n",
       "      <td>3538.30</td>\n",
       "      <td>0 days 00:02:29.770000</td>\n",
       "      <td>149.0</td>\n",
       "    </tr>\n",
       "    <tr>\n",
       "      <th>12310</th>\n",
       "      <td>2022-05-10 20:17:18.470</td>\n",
       "      <td>520.700</td>\n",
       "      <td>54.50</td>\n",
       "      <td>0 days 00:01:10.220000</td>\n",
       "      <td>70.0</td>\n",
       "    </tr>\n",
       "    <tr>\n",
       "      <th>18613</th>\n",
       "      <td>2022-05-11 14:23:30.540</td>\n",
       "      <td>541.300</td>\n",
       "      <td>5873.80</td>\n",
       "      <td>0 days 00:01:04.500000</td>\n",
       "      <td>64.0</td>\n",
       "    </tr>\n",
       "    <tr>\n",
       "      <th>18714</th>\n",
       "      <td>2022-05-11 14:43:27.210</td>\n",
       "      <td>2307.600</td>\n",
       "      <td>3794.80</td>\n",
       "      <td>0 days 00:01:25.830000</td>\n",
       "      <td>85.0</td>\n",
       "    </tr>\n",
       "    <tr>\n",
       "      <th>19056</th>\n",
       "      <td>2022-05-11 15:43:53.030</td>\n",
       "      <td>1319.900</td>\n",
       "      <td>4858.10</td>\n",
       "      <td>0 days 00:01:12.890000</td>\n",
       "      <td>72.0</td>\n",
       "    </tr>\n",
       "    <tr>\n",
       "      <th>32238</th>\n",
       "      <td>2022-05-13 05:30:11.730</td>\n",
       "      <td>2914.500</td>\n",
       "      <td>0.00</td>\n",
       "      <td>0 days 00:01:04.710000</td>\n",
       "      <td>64.0</td>\n",
       "    </tr>\n",
       "    <tr>\n",
       "      <th>35727</th>\n",
       "      <td>2022-05-13 15:29:20.050</td>\n",
       "      <td>1428.200</td>\n",
       "      <td>5425.10</td>\n",
       "      <td>0 days 00:01:30.340000</td>\n",
       "      <td>90.0</td>\n",
       "    </tr>\n",
       "    <tr>\n",
       "      <th>38329</th>\n",
       "      <td>2022-05-13 22:56:12.930</td>\n",
       "      <td>254.600</td>\n",
       "      <td>0.00</td>\n",
       "      <td>0 days 00:01:44.030000</td>\n",
       "      <td>104.0</td>\n",
       "    </tr>\n",
       "    <tr>\n",
       "      <th>58931</th>\n",
       "      <td>2022-05-16 09:53:21.080</td>\n",
       "      <td>4677.830</td>\n",
       "      <td>1559.82</td>\n",
       "      <td>0 days 00:01:45.610000</td>\n",
       "      <td>105.0</td>\n",
       "    </tr>\n",
       "    <tr>\n",
       "      <th>59645</th>\n",
       "      <td>2022-05-16 11:58:12.020</td>\n",
       "      <td>3556.960</td>\n",
       "      <td>2167.31</td>\n",
       "      <td>0 days 00:01:01.220000</td>\n",
       "      <td>61.0</td>\n",
       "    </tr>\n",
       "    <tr>\n",
       "      <th>77649</th>\n",
       "      <td>2022-05-18 17:38:30.260</td>\n",
       "      <td>814.467</td>\n",
       "      <td>2018.89</td>\n",
       "      <td>0 days 02:12:02.560000</td>\n",
       "      <td>7922.0</td>\n",
       "    </tr>\n",
       "    <tr>\n",
       "      <th>77670</th>\n",
       "      <td>2022-05-18 17:44:13.220</td>\n",
       "      <td>1166.330</td>\n",
       "      <td>1375.99</td>\n",
       "      <td>0 days 00:01:59.270000</td>\n",
       "      <td>119.0</td>\n",
       "    </tr>\n",
       "    <tr>\n",
       "      <th>77763</th>\n",
       "      <td>2022-05-18 18:01:17.070</td>\n",
       "      <td>438.854</td>\n",
       "      <td>1651.69</td>\n",
       "      <td>0 days 00:01:11.970000</td>\n",
       "      <td>71.0</td>\n",
       "    </tr>\n",
       "    <tr>\n",
       "      <th>83327</th>\n",
       "      <td>2022-05-19 10:06:47.120</td>\n",
       "      <td>3083.620</td>\n",
       "      <td>4455.24</td>\n",
       "      <td>0 days 00:01:08.190000</td>\n",
       "      <td>68.0</td>\n",
       "    </tr>\n",
       "    <tr>\n",
       "      <th>83735</th>\n",
       "      <td>2022-05-19 11:46:40.540</td>\n",
       "      <td>4769.290</td>\n",
       "      <td>6233.84</td>\n",
       "      <td>0 days 00:29:14.980000</td>\n",
       "      <td>1754.0</td>\n",
       "    </tr>\n",
       "    <tr>\n",
       "      <th>104900</th>\n",
       "      <td>2022-05-22 00:52:42.870</td>\n",
       "      <td>249.830</td>\n",
       "      <td>0.00</td>\n",
       "      <td>0 days 00:02:59.050000</td>\n",
       "      <td>179.0</td>\n",
       "    </tr>\n",
       "  </tbody>\n",
       "</table>\n",
       "</div>"
      ],
      "text/plain": [
       "                      datetime  consumption  production  \\\n",
       "8468   2022-05-10 09:12:55.780     2102.200     3538.30   \n",
       "12310  2022-05-10 20:17:18.470      520.700       54.50   \n",
       "18613  2022-05-11 14:23:30.540      541.300     5873.80   \n",
       "18714  2022-05-11 14:43:27.210     2307.600     3794.80   \n",
       "19056  2022-05-11 15:43:53.030     1319.900     4858.10   \n",
       "32238  2022-05-13 05:30:11.730     2914.500        0.00   \n",
       "35727  2022-05-13 15:29:20.050     1428.200     5425.10   \n",
       "38329  2022-05-13 22:56:12.930      254.600        0.00   \n",
       "58931  2022-05-16 09:53:21.080     4677.830     1559.82   \n",
       "59645  2022-05-16 11:58:12.020     3556.960     2167.31   \n",
       "77649  2022-05-18 17:38:30.260      814.467     2018.89   \n",
       "77670  2022-05-18 17:44:13.220     1166.330     1375.99   \n",
       "77763  2022-05-18 18:01:17.070      438.854     1651.69   \n",
       "83327  2022-05-19 10:06:47.120     3083.620     4455.24   \n",
       "83735  2022-05-19 11:46:40.540     4769.290     6233.84   \n",
       "104900 2022-05-22 00:52:42.870      249.830        0.00   \n",
       "\n",
       "                     interval  intervalsec  \n",
       "8468   0 days 00:02:29.770000        149.0  \n",
       "12310  0 days 00:01:10.220000         70.0  \n",
       "18613  0 days 00:01:04.500000         64.0  \n",
       "18714  0 days 00:01:25.830000         85.0  \n",
       "19056  0 days 00:01:12.890000         72.0  \n",
       "32238  0 days 00:01:04.710000         64.0  \n",
       "35727  0 days 00:01:30.340000         90.0  \n",
       "38329  0 days 00:01:44.030000        104.0  \n",
       "58931  0 days 00:01:45.610000        105.0  \n",
       "59645  0 days 00:01:01.220000         61.0  \n",
       "77649  0 days 02:12:02.560000       7922.0  \n",
       "77670  0 days 00:01:59.270000        119.0  \n",
       "77763  0 days 00:01:11.970000         71.0  \n",
       "83327  0 days 00:01:08.190000         68.0  \n",
       "83735  0 days 00:29:14.980000       1754.0  \n",
       "104900 0 days 00:02:59.050000        179.0  "
      ]
     },
     "execution_count": 11,
     "metadata": {},
     "output_type": "execute_result"
    }
   ],
   "source": [
    "longdelayds = solardf[solardf['intervalsec'] > 60]\n",
    "longdelayds"
   ]
  },
  {
   "cell_type": "code",
   "execution_count": 12,
   "metadata": {},
   "outputs": [
    {
     "name": "stdout",
     "output_type": "stream",
     "text": [
      "90\n"
     ]
    },
    {
     "data": {
      "text/plain": [
       "<AxesSubplot:>"
      ]
     },
     "execution_count": 12,
     "metadata": {},
     "output_type": "execute_result"
    },
    {
     "data": {
      "image/png": "[encoded data removed]",
      "text/plain": [
       "<Figure size 432x288 with 1 Axes>"
      ]
     },
     "metadata": {
      "needs_background": "light"
     },
     "output_type": "display_data"
    }
   ],
   "source": [
    "delaymins = longdelayds['intervalsec']/60\n",
    "bins = math.ceil(delaymins.max()/60) * 30\n",
    "print (bins)\n",
    "(longdelayds['intervalsec']/60).hist(bins=bins)"
   ]
  },
  {
   "cell_type": "code",
   "execution_count": 13,
   "metadata": {},
   "outputs": [],
   "source": [
    "d = solardf[(solardf['datetime'] > datetime.datetime(2022, 5, 18, 12, 00, 00)) & (solardf['datetime'] < datetime.datetime(2022, 5, 18, 18, 15, 00))]\n",
    "d.to_csv(\"dropped_data.csv\")"
   ]
  },
  {
   "cell_type": "code",
   "execution_count": 14,
   "metadata": {},
   "outputs": [
    {
     "data": {
      "text/plain": [
       "1200"
      ]
     },
     "execution_count": 14,
     "metadata": {},
     "output_type": "execute_result"
    }
   ],
   "source": [
    "round(1234,-2)"
   ]
  }
 ],
 "metadata": {
  "interpreter": {
   "hash": "4a20633f9c916463527cd54f92f40b9313fad59afe3f7f7262ff5dde4cf75d13"
  },
  "kernelspec": {
   "display_name": "Python 3.8.12 64-bit ('covid8')",
   "language": "python",
   "name": "python3"
  },
  "language_info": {
   "codemirror_mode": {
    "name": "ipython",
    "version": 3
   },
   "file_extension": ".py",
   "mimetype": "text/x-python",
   "name": "python",
   "nbconvert_exporter": "python",
   "pygments_lexer": "ipython3",
   "version": "3.8.12"
  },
  "orig_nbformat": 4
 },
 "nbformat": 4,
 "nbformat_minor": 2
}
